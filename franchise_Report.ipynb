{
  "cells": [
    {
      "cell_type": "markdown",
      "metadata": {
        "id": "view-in-github",
        "colab_type": "text"
      },
      "source": [
        "<a href=\"https://colab.research.google.com/github/Om25091210/Apis-demo/blob/main/franchise_Report.ipynb\" target=\"_parent\"><img src=\"https://colab.research.google.com/assets/colab-badge.svg\" alt=\"Open In Colab\"/></a>"
      ]
    },
    {
      "cell_type": "code",
      "execution_count": 1,
      "id": "4fdd7308",
      "metadata": {
        "id": "4fdd7308"
      },
      "outputs": [],
      "source": [
        "import pandas as pd\n",
        "import numpy as np\n",
        "import matplotlib.pyplot as plt\n",
        "from scipy.stats import skew\n",
        "from sklearn import linear_model"
      ]
    },
    {
      "cell_type": "code",
      "execution_count": 2,
      "id": "381cffc6",
      "metadata": {
        "id": "381cffc6"
      },
      "outputs": [],
      "source": [
        "df=pd.read_excel(R\"/content/dataStats.xlsx\") #Please add the franchise sheet as a sole sheet here - upload under files section in colab\n",
        "#then click on the menu of the file and then click on copy path (By default no change just add the file)."
      ]
    },
    {
      "cell_type": "code",
      "execution_count": 3,
      "id": "c3082744",
      "metadata": {
        "colab": {
          "base_uri": "https://localhost:8080/",
          "height": 1000
        },
        "id": "c3082744",
        "outputId": "df6cd1a5-ebf0-465f-d4d3-26ebeb5d9376"
      },
      "outputs": [
        {
          "output_type": "execute_result",
          "data": {
            "text/plain": [
              "S.No                              0\n",
              "Ticket Id                         0\n",
              "Division                          0\n",
              "Corporate GST No                  0\n",
              "Student Name                      0\n",
              "Student State                     0\n",
              "Course Title                      0\n",
              "Course Type                       0\n",
              "Ledger Type                      51\n",
              "HSN code                         19\n",
              "Centre Code                       0\n",
              "Centre Type                       0\n",
              "Without GST                       0\n",
              "IGST                              0\n",
              "CGST                              0\n",
              "SGST                              0\n",
              "With GST                          0\n",
              "Partner GST No                 3078\n",
              "Partner Share with GST            0\n",
              "Partner Share without GST         0\n",
              "Partner Share after TDS           0\n",
              "Credit Balance utilized           0\n",
              "Corporate Share without GST       0\n",
              "Partner Invoice No             5145\n",
              "Payout Approval                5145\n",
              "PG Reference Id                6127\n",
              "Payment Gateway                   0\n",
              "Payment Type                      0\n",
              "Cost centre                       0\n",
              "Payment Date                      0\n",
              "Student Invoice No                0\n",
              "dtype: int64"
            ],
            "text/html": [
              "<div>\n",
              "<style scoped>\n",
              "    .dataframe tbody tr th:only-of-type {\n",
              "        vertical-align: middle;\n",
              "    }\n",
              "\n",
              "    .dataframe tbody tr th {\n",
              "        vertical-align: top;\n",
              "    }\n",
              "\n",
              "    .dataframe thead th {\n",
              "        text-align: right;\n",
              "    }\n",
              "</style>\n",
              "<table border=\"1\" class=\"dataframe\">\n",
              "  <thead>\n",
              "    <tr style=\"text-align: right;\">\n",
              "      <th></th>\n",
              "      <th>0</th>\n",
              "    </tr>\n",
              "  </thead>\n",
              "  <tbody>\n",
              "    <tr>\n",
              "      <th>S.No</th>\n",
              "      <td>0</td>\n",
              "    </tr>\n",
              "    <tr>\n",
              "      <th>Ticket Id</th>\n",
              "      <td>0</td>\n",
              "    </tr>\n",
              "    <tr>\n",
              "      <th>Division</th>\n",
              "      <td>0</td>\n",
              "    </tr>\n",
              "    <tr>\n",
              "      <th>Corporate GST No</th>\n",
              "      <td>0</td>\n",
              "    </tr>\n",
              "    <tr>\n",
              "      <th>Student Name</th>\n",
              "      <td>0</td>\n",
              "    </tr>\n",
              "    <tr>\n",
              "      <th>Student State</th>\n",
              "      <td>0</td>\n",
              "    </tr>\n",
              "    <tr>\n",
              "      <th>Course Title</th>\n",
              "      <td>0</td>\n",
              "    </tr>\n",
              "    <tr>\n",
              "      <th>Course Type</th>\n",
              "      <td>0</td>\n",
              "    </tr>\n",
              "    <tr>\n",
              "      <th>Ledger Type</th>\n",
              "      <td>51</td>\n",
              "    </tr>\n",
              "    <tr>\n",
              "      <th>HSN code</th>\n",
              "      <td>19</td>\n",
              "    </tr>\n",
              "    <tr>\n",
              "      <th>Centre Code</th>\n",
              "      <td>0</td>\n",
              "    </tr>\n",
              "    <tr>\n",
              "      <th>Centre Type</th>\n",
              "      <td>0</td>\n",
              "    </tr>\n",
              "    <tr>\n",
              "      <th>Without GST</th>\n",
              "      <td>0</td>\n",
              "    </tr>\n",
              "    <tr>\n",
              "      <th>IGST</th>\n",
              "      <td>0</td>\n",
              "    </tr>\n",
              "    <tr>\n",
              "      <th>CGST</th>\n",
              "      <td>0</td>\n",
              "    </tr>\n",
              "    <tr>\n",
              "      <th>SGST</th>\n",
              "      <td>0</td>\n",
              "    </tr>\n",
              "    <tr>\n",
              "      <th>With GST</th>\n",
              "      <td>0</td>\n",
              "    </tr>\n",
              "    <tr>\n",
              "      <th>Partner GST No</th>\n",
              "      <td>3078</td>\n",
              "    </tr>\n",
              "    <tr>\n",
              "      <th>Partner Share with GST</th>\n",
              "      <td>0</td>\n",
              "    </tr>\n",
              "    <tr>\n",
              "      <th>Partner Share without GST</th>\n",
              "      <td>0</td>\n",
              "    </tr>\n",
              "    <tr>\n",
              "      <th>Partner Share after TDS</th>\n",
              "      <td>0</td>\n",
              "    </tr>\n",
              "    <tr>\n",
              "      <th>Credit Balance utilized</th>\n",
              "      <td>0</td>\n",
              "    </tr>\n",
              "    <tr>\n",
              "      <th>Corporate Share without GST</th>\n",
              "      <td>0</td>\n",
              "    </tr>\n",
              "    <tr>\n",
              "      <th>Partner Invoice No</th>\n",
              "      <td>5145</td>\n",
              "    </tr>\n",
              "    <tr>\n",
              "      <th>Payout Approval</th>\n",
              "      <td>5145</td>\n",
              "    </tr>\n",
              "    <tr>\n",
              "      <th>PG Reference Id</th>\n",
              "      <td>6127</td>\n",
              "    </tr>\n",
              "    <tr>\n",
              "      <th>Payment Gateway</th>\n",
              "      <td>0</td>\n",
              "    </tr>\n",
              "    <tr>\n",
              "      <th>Payment Type</th>\n",
              "      <td>0</td>\n",
              "    </tr>\n",
              "    <tr>\n",
              "      <th>Cost centre</th>\n",
              "      <td>0</td>\n",
              "    </tr>\n",
              "    <tr>\n",
              "      <th>Payment Date</th>\n",
              "      <td>0</td>\n",
              "    </tr>\n",
              "    <tr>\n",
              "      <th>Student Invoice No</th>\n",
              "      <td>0</td>\n",
              "    </tr>\n",
              "  </tbody>\n",
              "</table>\n",
              "</div><br><label><b>dtype:</b> int64</label>"
            ]
          },
          "metadata": {},
          "execution_count": 3
        }
      ],
      "source": [
        "df.isnull().sum() #Get the total number of the null values."
      ]
    },
    {
      "cell_type": "code",
      "execution_count": 4,
      "id": "e06fa5a5",
      "metadata": {
        "colab": {
          "base_uri": "https://localhost:8080/"
        },
        "id": "e06fa5a5",
        "outputId": "8c248075-b33e-4825-d6d2-5ae3cc472c33"
      },
      "outputs": [
        {
          "output_type": "stream",
          "name": "stdout",
          "text": [
            "Course Title\n",
            "Essential in AutoCAD                                1856\n",
            "Proficient in AutoCAD                                705\n",
            "Essential in Revit Architecture                      483\n",
            "Essential in Solidworks                              391\n",
            "Course on Python                                     351\n",
            "                                                    ... \n",
            "Course on Electrical Power System Analysis             1\n",
            "Diploma in Artificial Intelligence                     1\n",
            "Diploma in Fashion CAD ( Illustrator)                  1\n",
            "Master Program in Business Intelligence                1\n",
            "Course on SAP  S/4HANA Sourcing and  Procurement       1\n",
            "Name: count, Length: 274, dtype: int64\n"
          ]
        }
      ],
      "source": [
        "#The number of books with a specific title people are viewing it more.\n",
        "course_stock = df['Course Title'].value_counts()\n",
        "print(course_stock)"
      ]
    },
    {
      "cell_type": "code",
      "execution_count": 5,
      "id": "1170709e",
      "metadata": {
        "colab": {
          "base_uri": "https://localhost:8080/"
        },
        "id": "1170709e",
        "outputId": "cda5f31b-ad31-4ae9-a7a5-c1b9bd40c3db"
      },
      "outputs": [
        {
          "output_type": "stream",
          "name": "stdout",
          "text": [
            "Division\n",
            "CADD Centre Training Services Pvt Ltd    3247\n",
            "Livewire India                            720\n",
            "Dreamzone School Of Creative Studies      621\n",
            "Synergy School Of Business Skills         433\n",
            "Institute of Industrial Design             18\n",
            "Name: count, dtype: int64\n"
          ]
        }
      ],
      "source": [
        "#Division vise book purchasing.\n",
        "book_divisions = df[df['Ledger Type'].isin(['Physical Book', 'E-Book'])]['Division'].value_counts()\n",
        "print(book_divisions)"
      ]
    },
    {
      "cell_type": "code",
      "source": [
        "#same as above but including Course Fee.\n",
        "book_divisions = df[df['Ledger Type'].isin(['Physical Book', 'E-Book', 'Course Fee'])]['Division'].value_counts()\n",
        "print(book_divisions)"
      ],
      "metadata": {
        "colab": {
          "base_uri": "https://localhost:8080/"
        },
        "id": "dZrAxmSZ0SR3",
        "outputId": "d0b4685c-8486-4e1e-fe0a-c564d3f45e17"
      },
      "id": "dZrAxmSZ0SR3",
      "execution_count": 6,
      "outputs": [
        {
          "output_type": "stream",
          "name": "stdout",
          "text": [
            "Division\n",
            "CADD Centre Training Services Pvt Ltd    7184\n",
            "Livewire India                           1726\n",
            "Dreamzone School Of Creative Studies     1341\n",
            "Synergy School Of Business Skills         998\n",
            "Institute of Industrial Design             39\n",
            "Name: count, dtype: int64\n"
          ]
        }
      ]
    },
    {
      "cell_type": "code",
      "execution_count": 7,
      "id": "7492692f",
      "metadata": {
        "colab": {
          "base_uri": "https://localhost:8080/"
        },
        "id": "7492692f",
        "outputId": "b99d2b0f-e60c-4b5f-c796-9f94f126d8c7"
      },
      "outputs": [
        {
          "output_type": "stream",
          "name": "stdout",
          "text": [
            "1.2506825515016133\n"
          ]
        }
      ],
      "source": [
        "#Let's find out average purchase.\n",
        "avg_books_per_student = df[df['Ledger Type'].isin(['Physical Book', 'E-Book'])].groupby('Student Name').size().mean()\n",
        "print(avg_books_per_student)"
      ]
    },
    {
      "cell_type": "code",
      "execution_count": 8,
      "id": "b4e27494",
      "metadata": {
        "colab": {
          "base_uri": "https://localhost:8080/"
        },
        "id": "b4e27494",
        "outputId": "8e2af2f7-070b-4011-805e-c10ec6553906"
      },
      "outputs": [
        {
          "output_type": "stream",
          "name": "stdout",
          "text": [
            "Student State\n",
            "Tamil Nadu           4750\n",
            "Kerala               2436\n",
            "Maharashtra          2008\n",
            "Karnataka             846\n",
            "Uttar Pradesh         284\n",
            "Delhi                 170\n",
            "West Bengal           125\n",
            "Gujarat               124\n",
            "Uttarakhand           107\n",
            "Haryana               105\n",
            "Puducherry             89\n",
            "Rajasthan              76\n",
            "Assam                  65\n",
            "Jammu and Kashmir      43\n",
            "Jharkhand              35\n",
            "Punjab                 31\n",
            "Telangana              24\n",
            "Bihar                   6\n",
            "Madhya Pradesh          5\n",
            "Himachal Pradesh        4\n",
            "Andhra Pradesh          3\n",
            "Tripura                 2\n",
            "Odisha                  1\n",
            "Name: count, dtype: int64\n"
          ]
        }
      ],
      "source": [
        "#Student state wise purchasing.\n",
        "state_highest_buyers = df['Student State'].value_counts()\n",
        "print(state_highest_buyers)"
      ]
    },
    {
      "cell_type": "code",
      "execution_count": 9,
      "id": "2e6c87fe",
      "metadata": {
        "colab": {
          "base_uri": "https://localhost:8080/"
        },
        "id": "2e6c87fe",
        "outputId": "acf24f0b-c176-4a7a-c0e8-c2445e65f75c"
      },
      "outputs": [
        {
          "output_type": "stream",
          "name": "stdout",
          "text": [
            "Payment Type\n",
            "Cash On Hand              6086\n",
            "UPI                       3368\n",
            "Debit Card                 997\n",
            "Cash Deposit at Bank       364\n",
            "Credit Card                259\n",
            "Net Banking                205\n",
            "Student Credit              41\n",
            "Cheque Deposit at Bank      19\n",
            "Name: count, dtype: int64\n",
            "\n",
            "Payment Gateway\n",
            "Offline                         6127\n",
            "CcAvenue                        3162\n",
            "PayU                            1603\n",
            "AXIS Bank                        312\n",
            "Axis Bank                         71\n",
            "BillDesk (Includes EMI also)      64\n",
            "Name: count, dtype: int64\n"
          ]
        }
      ],
      "source": [
        "#Payment type.\n",
        "most_used_payment_type = df['Payment Type'].value_counts()\n",
        "print(most_used_payment_type)\n",
        "print()#For better formatting.\n",
        "#Payment Gateway.\n",
        "most_used_payment_gateway = df['Payment Gateway'].value_counts()\n",
        "print(most_used_payment_gateway)"
      ]
    },
    {
      "cell_type": "code",
      "execution_count": 10,
      "id": "9bed7b9d",
      "metadata": {
        "id": "9bed7b9d"
      },
      "outputs": [],
      "source": [
        "#Let's get total payment approval rate.\n",
        "approved_payments = df['Payout Approval'].str.contains('Approved', na=False).sum()\n",
        "total_payments = len(df)"
      ]
    },
    {
      "cell_type": "code",
      "source": [
        "total_payments"
      ],
      "metadata": {
        "colab": {
          "base_uri": "https://localhost:8080/"
        },
        "id": "THXACcgn2PF0",
        "outputId": "99acc301-20ad-4bfb-dff5-b87ca6f4418b"
      },
      "id": "THXACcgn2PF0",
      "execution_count": 11,
      "outputs": [
        {
          "output_type": "execute_result",
          "data": {
            "text/plain": [
              "11339"
            ]
          },
          "metadata": {},
          "execution_count": 11
        }
      ]
    },
    {
      "cell_type": "code",
      "source": [
        "payment_approval_rate = (approved_payments / total_payments) * 100"
      ],
      "metadata": {
        "id": "7bStM0z32RI4"
      },
      "id": "7bStM0z32RI4",
      "execution_count": 12,
      "outputs": []
    },
    {
      "cell_type": "code",
      "source": [
        "payment_approval_rate"
      ],
      "metadata": {
        "colab": {
          "base_uri": "https://localhost:8080/"
        },
        "id": "YWpxJ_Q42Ssy",
        "outputId": "fc7425d0-8fda-4899-be5b-d42f619b5a1a"
      },
      "id": "YWpxJ_Q42Ssy",
      "execution_count": 13,
      "outputs": [
        {
          "output_type": "execute_result",
          "data": {
            "text/plain": [
              "23.75870888085369"
            ]
          },
          "metadata": {},
          "execution_count": 13
        }
      ]
    },
    {
      "cell_type": "code",
      "execution_count": 14,
      "id": "d118efd7",
      "metadata": {
        "colab": {
          "base_uri": "https://localhost:8080/"
        },
        "id": "d118efd7",
        "outputId": "a8aae955-4054-4df6-be4e-f7e4c2e884ab"
      },
      "outputs": [
        {
          "output_type": "stream",
          "name": "stdout",
          "text": [
            "{'Course with highest requirements': Course Title\n",
            "Essential in AutoCAD                                1856\n",
            "Proficient in AutoCAD                                705\n",
            "Essential in Revit Architecture                      483\n",
            "Essential in Solidworks                              391\n",
            "Course on Python                                     351\n",
            "                                                    ... \n",
            "Course on Electrical Power System Analysis             1\n",
            "Diploma in Artificial Intelligence                     1\n",
            "Diploma in Fashion CAD ( Illustrator)                  1\n",
            "Master Program in Business Intelligence                1\n",
            "Course on SAP  S/4HANA Sourcing and  Procurement       1\n",
            "Name: count, Length: 274, dtype: int64, 'Division buying more books': Division\n",
            "CADD Centre Training Services Pvt Ltd    7184\n",
            "Livewire India                           1726\n",
            "Dreamzone School Of Creative Studies     1341\n",
            "Synergy School Of Business Skills         998\n",
            "Institute of Industrial Design             39\n",
            "Name: count, dtype: int64, 'Average books per student': 1.2506825515016133, 'State with highest buyers': Student State\n",
            "Tamil Nadu           4750\n",
            "Kerala               2436\n",
            "Maharashtra          2008\n",
            "Karnataka             846\n",
            "Uttar Pradesh         284\n",
            "Delhi                 170\n",
            "West Bengal           125\n",
            "Gujarat               124\n",
            "Uttarakhand           107\n",
            "Haryana               105\n",
            "Puducherry             89\n",
            "Rajasthan              76\n",
            "Assam                  65\n",
            "Jammu and Kashmir      43\n",
            "Jharkhand              35\n",
            "Punjab                 31\n",
            "Telangana              24\n",
            "Bihar                   6\n",
            "Madhya Pradesh          5\n",
            "Himachal Pradesh        4\n",
            "Andhra Pradesh          3\n",
            "Tripura                 2\n",
            "Odisha                  1\n",
            "Name: count, dtype: int64, 'Most used payment type': Payment Type\n",
            "Cash On Hand              6086\n",
            "UPI                       3368\n",
            "Debit Card                 997\n",
            "Cash Deposit at Bank       364\n",
            "Credit Card                259\n",
            "Net Banking                205\n",
            "Student Credit              41\n",
            "Cheque Deposit at Bank      19\n",
            "Name: count, dtype: int64, 'Most used payment gateway': Payment Gateway\n",
            "Offline                         6127\n",
            "CcAvenue                        3162\n",
            "PayU                            1603\n",
            "AXIS Bank                        312\n",
            "Axis Bank                         71\n",
            "BillDesk (Includes EMI also)      64\n",
            "Name: count, dtype: int64, 'Payment approval rate (%)': 23.75870888085369}\n"
          ]
        }
      ],
      "source": [
        "#Coupling things together (like we are coupled ;) )\n",
        "answers = {\n",
        "    \"Course with highest requirements\": course_stock,\n",
        "    \"Division buying more books\": book_divisions,\n",
        "    \"Average books per student\": avg_books_per_student,\n",
        "    \"State with highest buyers\": state_highest_buyers,\n",
        "    \"Most used payment type\": most_used_payment_type,\n",
        "    \"Most used payment gateway\": most_used_payment_gateway,\n",
        "    \"Payment approval rate (%)\": payment_approval_rate\n",
        "}\n",
        "\n",
        "print(answers)\n"
      ]
    },
    {
      "cell_type": "code",
      "execution_count": 22,
      "id": "26530a7a",
      "metadata": {
        "colab": {
          "base_uri": "https://localhost:8080/"
        },
        "id": "26530a7a",
        "outputId": "13c42f4c-7ee4-46bd-a421-fd9640912fcc"
      },
      "outputs": [
        {
          "output_type": "execute_result",
          "data": {
            "text/plain": [
              "0.9275793650793651"
            ]
          },
          "metadata": {},
          "execution_count": 22
        }
      ],
      "source": [
        "# For Physical Book or E-Book\n",
        "# Filter data to include only rows related to book purchases (Physical Book, E-Book)\n",
        "book_purchase_data = df[df['Ledger Type'].isin(['Physical Book', 'E-Book'])]\n",
        "\n",
        "# Selecting relevant features for prediction\n",
        "# We'll include 'Division', 'Student State', 'Payment Type', 'Course Title' and the target will be the 'Ledger Type'\n",
        "features = ['Division', 'Student State', 'Payment Type', 'Course Title']\n",
        "target = 'Ledger Type'\n",
        "\n",
        "# Dropping rows with missing values in relevant columns\n",
        "book_purchase_data_clean = book_purchase_data.dropna(subset=features + [target])\n",
        "\n",
        "# Convert categorical data into numerical using one-hot encoding\n",
        "book_purchase_data_encoded = pd.get_dummies(book_purchase_data_clean[features])\n",
        "\n",
        "# Encode the target variable: 1 for 'Physical Book', 0 for 'E-Book' - resource - https://medium.com/anolytics/all-you-need-to-know-about-encoding-techniques-b3a0af68338b\n",
        "book_purchase_data_clean['Ledger Type Encoded'] = book_purchase_data_clean['Ledger Type'].apply(lambda x: 1 if x == 'Physical Book' else 0)\n",
        "\n",
        "# Define the input (X) and output (y) for the regression model\n",
        "X = book_purchase_data_encoded\n",
        "y = book_purchase_data_clean['Ledger Type Encoded']\n",
        "\n",
        "# Splitting the dataset into training and testing sets\n",
        "from sklearn.model_selection import train_test_split\n",
        "X_train, X_test, y_train, y_test = train_test_split(X, y, test_size=0.2, random_state=42)\n",
        "\n",
        "# Applying a Logistic Regression model since the output is binary\n",
        "from sklearn.linear_model import LogisticRegression\n",
        "model = LogisticRegression()\n",
        "\n",
        "# Train the model\n",
        "model.fit(X_train, y_train)\n",
        "\n",
        "# Predict on the test set\n",
        "y_pred = model.predict(X_test)\n",
        "\n",
        "# Evaluate the model performance\n",
        "from sklearn.metrics import accuracy_score, classification_report\n",
        "accuracy = accuracy_score(y_test, y_pred)\n",
        "report = classification_report(y_test, y_pred)\n",
        "\n",
        "accuracy\n"
      ]
    },
    {
      "cell_type": "code",
      "source": [
        "report"
      ],
      "metadata": {
        "colab": {
          "base_uri": "https://localhost:8080/",
          "height": 70
        },
        "id": "z6cI5uR84zH0",
        "outputId": "6c674569-75d4-478d-bce0-5f7989721c09"
      },
      "id": "z6cI5uR84zH0",
      "execution_count": 16,
      "outputs": [
        {
          "output_type": "execute_result",
          "data": {
            "text/plain": [
              "'              precision    recall  f1-score   support\\n\\n           0       0.93      0.99      0.96       823\\n           1       0.92      0.66      0.77       185\\n\\n    accuracy                           0.93      1008\\n   macro avg       0.92      0.83      0.86      1008\\nweighted avg       0.93      0.93      0.92      1008\\n'"
            ],
            "application/vnd.google.colaboratory.intrinsic+json": {
              "type": "string"
            }
          },
          "metadata": {},
          "execution_count": 16
        }
      ]
    },
    {
      "cell_type": "code",
      "source": [
        "from sklearn.preprocessing import LabelEncoder\n",
        "from sklearn.tree import DecisionTreeClassifier\n",
        "\n",
        "# Filter dataset for relevant features\n",
        "df_payment = df[['Payment Gateway', 'Course Title', 'Payment Type', 'Division']]\n",
        "df_payment.dropna(inplace=True)\n",
        "\n",
        "# Encode categorical variables\n",
        "le = LabelEncoder()\n",
        "df_payment['Payment Gateway Encoded'] = le.fit_transform(df_payment['Payment Gateway'])\n",
        "df_payment = pd.get_dummies(df_payment, columns=['Course Title', 'Payment Type', 'Division'])\n",
        "\n",
        "# Train-test split\n",
        "X = df_payment.drop(columns=['Payment Gateway', 'Payment Gateway Encoded'])\n",
        "y = df_payment['Payment Gateway Encoded']\n",
        "X_train, X_test, y_train, y_test = train_test_split(X, y, test_size=0.2, random_state=42)\n",
        "\n",
        "# Train the model\n",
        "clf = DecisionTreeClassifier()\n",
        "clf.fit(X_train, y_train)\n",
        "\n",
        "# Predict payment gateway for new data\n",
        "gateway_pred = clf.predict(X_test)\n",
        "\n",
        "# Decode predictions back to original labels\n",
        "gateway_pred_labels = le.inverse_transform(gateway_pred)\n"
      ],
      "metadata": {
        "colab": {
          "base_uri": "https://localhost:8080/"
        },
        "id": "W3kW0RGn44BO",
        "outputId": "ecb34b72-a54a-40c1-c0a2-5690a92618bf"
      },
      "id": "W3kW0RGn44BO",
      "execution_count": 17,
      "outputs": [
        {
          "output_type": "stream",
          "name": "stderr",
          "text": [
            "<ipython-input-17-a193ce6ff2cf>:6: SettingWithCopyWarning: \n",
            "A value is trying to be set on a copy of a slice from a DataFrame\n",
            "\n",
            "See the caveats in the documentation: https://pandas.pydata.org/pandas-docs/stable/user_guide/indexing.html#returning-a-view-versus-a-copy\n",
            "  df_payment.dropna(inplace=True)\n",
            "<ipython-input-17-a193ce6ff2cf>:10: SettingWithCopyWarning: \n",
            "A value is trying to be set on a copy of a slice from a DataFrame.\n",
            "Try using .loc[row_indexer,col_indexer] = value instead\n",
            "\n",
            "See the caveats in the documentation: https://pandas.pydata.org/pandas-docs/stable/user_guide/indexing.html#returning-a-view-versus-a-copy\n",
            "  df_payment['Payment Gateway Encoded'] = le.fit_transform(df_payment['Payment Gateway'])\n"
          ]
        }
      ]
    },
    {
      "cell_type": "code",
      "source": [
        "gateway_pred"
      ],
      "metadata": {
        "colab": {
          "base_uri": "https://localhost:8080/"
        },
        "id": "43BwuTEn_But",
        "outputId": "fcaaf713-0799-4e9a-9eb3-3995ac7341ac"
      },
      "id": "43BwuTEn_But",
      "execution_count": 18,
      "outputs": [
        {
          "output_type": "execute_result",
          "data": {
            "text/plain": [
              "array([3, 3, 3, ..., 4, 4, 3])"
            ]
          },
          "metadata": {},
          "execution_count": 18
        }
      ]
    },
    {
      "cell_type": "code",
      "source": [
        "gateway_pred_labels"
      ],
      "metadata": {
        "colab": {
          "base_uri": "https://localhost:8080/"
        },
        "id": "RaRH1dF8_JCO",
        "outputId": "a5da165e-233d-4be6-fdbe-2ed2c1f0da19"
      },
      "id": "RaRH1dF8_JCO",
      "execution_count": 19,
      "outputs": [
        {
          "output_type": "execute_result",
          "data": {
            "text/plain": [
              "array(['CcAvenue', 'CcAvenue', 'CcAvenue', ..., 'Offline', 'Offline',\n",
              "       'CcAvenue'], dtype=object)"
            ]
          },
          "metadata": {},
          "execution_count": 19
        }
      ]
    },
    {
      "cell_type": "markdown",
      "source": [
        "# **Step 1: Affiliation Impact Prediction**"
      ],
      "metadata": {
        "id": "k_1gbJDDFpY1"
      },
      "id": "k_1gbJDDFpY1"
    },
    {
      "cell_type": "markdown",
      "source": [
        "1. Affiliation Impact Prediction\n",
        "- To predict whether the affiliation (NSDC vs. Self) affects student behavior (e.g., enrollment numbers or completion rates), you can follow these steps:\n",
        "\n",
        " -- Steps:\n",
        "   - Data Preparation: Use the Course Type (Self vs. NSDC Affiliation) as the target variable and identify key features such as Student State, Course Title, Course Fee, and Payment Type to serve as input features.\n",
        "   - Feature Engineering: Create features like the number of students enrolled in NSDC and Self-affiliated courses, average fees, or course completion rates.\n",
        "   - Modeling: Use a classification model (e.g., Logistic Regression, Random Forest, etc.) to predict whether a course is likely to be NSDC-affiliated or Self-affiliated based on the student’s preferences and regional factors.\n",
        "   - Model Evaluation: Measure the model's performance using accuracy, precision, recall, or AUC-ROC, depending on the classification model chosen.\n",
        "\n",
        "#   Example:\n",
        "   - Input Features: Student State, Course Fee, Division, Payment Type.\n",
        "   - Target: Course Type (NSDC vs. Self)."
      ],
      "metadata": {
        "id": "BMGYMlOnFvkX"
      },
      "id": "BMGYMlOnFvkX"
    },
    {
      "cell_type": "markdown",
      "source": [],
      "metadata": {
        "id": "1g3I_EHTFoTE"
      },
      "id": "1g3I_EHTFoTE"
    },
    {
      "cell_type": "code",
      "source": [
        "# Selecting relevant columns for the model\n",
        "affiliation_df = df[['Course Type', 'Student State', 'With GST', 'Payment Type']].copy()\n",
        "\n",
        "# Converting categorical columns into numeric (One-Hot Encoding)\n",
        "affiliation_df = pd.get_dummies(affiliation_df, columns=['Student State', 'Payment Type'])\n",
        "\n",
        "# Label encoding for the target variable 'Course Type' (NSDC affiliated vs Self-affiliated)\n",
        "affiliation_df['Course Type'] = affiliation_df['Course Type'].apply(lambda x: 1 if 'NSDC' in x else 0)\n"
      ],
      "metadata": {
        "id": "vBpwOrgc_Tmh"
      },
      "id": "vBpwOrgc_Tmh",
      "execution_count": 23,
      "outputs": []
    },
    {
      "cell_type": "code",
      "source": [
        "# Splitting the data into training and testing sets\n",
        "X_affiliation = affiliation_df.drop(columns=['Course Type'])\n",
        "y_affiliation = affiliation_df['Course Type']\n",
        "\n",
        "X_train_aff, X_test_aff, y_train_aff, y_test_aff = train_test_split(X_affiliation, y_affiliation, test_size=0.3, random_state=42)\n"
      ],
      "metadata": {
        "id": "1lBVG17yFNMw"
      },
      "id": "1lBVG17yFNMw",
      "execution_count": 24,
      "outputs": []
    },
    {
      "cell_type": "code",
      "source": [
        "\n",
        "# Import necessary libraries\n",
        "from sklearn.model_selection import train_test_split\n",
        "from sklearn.ensemble import RandomForestClassifier\n",
        "from sklearn.metrics import classification_report, accuracy_score\n",
        "\n",
        "# Building the RandomForest model for Affiliation Impact Prediction\n",
        "affiliation_model = RandomForestClassifier(random_state=42)\n",
        "affiliation_model.fit(X_train_aff, y_train_aff)\n"
      ],
      "metadata": {
        "colab": {
          "base_uri": "https://localhost:8080/",
          "height": 75
        },
        "id": "82KJQcmgFPiP",
        "outputId": "cbb9b90f-19de-4a76-f4fd-a90ae551d5c1"
      },
      "id": "82KJQcmgFPiP",
      "execution_count": 27,
      "outputs": [
        {
          "output_type": "execute_result",
          "data": {
            "text/plain": [
              "RandomForestClassifier(random_state=42)"
            ],
            "text/html": [
              "<style>#sk-container-id-1 {color: black;}#sk-container-id-1 pre{padding: 0;}#sk-container-id-1 div.sk-toggleable {background-color: white;}#sk-container-id-1 label.sk-toggleable__label {cursor: pointer;display: block;width: 100%;margin-bottom: 0;padding: 0.3em;box-sizing: border-box;text-align: center;}#sk-container-id-1 label.sk-toggleable__label-arrow:before {content: \"▸\";float: left;margin-right: 0.25em;color: #696969;}#sk-container-id-1 label.sk-toggleable__label-arrow:hover:before {color: black;}#sk-container-id-1 div.sk-estimator:hover label.sk-toggleable__label-arrow:before {color: black;}#sk-container-id-1 div.sk-toggleable__content {max-height: 0;max-width: 0;overflow: hidden;text-align: left;background-color: #f0f8ff;}#sk-container-id-1 div.sk-toggleable__content pre {margin: 0.2em;color: black;border-radius: 0.25em;background-color: #f0f8ff;}#sk-container-id-1 input.sk-toggleable__control:checked~div.sk-toggleable__content {max-height: 200px;max-width: 100%;overflow: auto;}#sk-container-id-1 input.sk-toggleable__control:checked~label.sk-toggleable__label-arrow:before {content: \"▾\";}#sk-container-id-1 div.sk-estimator input.sk-toggleable__control:checked~label.sk-toggleable__label {background-color: #d4ebff;}#sk-container-id-1 div.sk-label input.sk-toggleable__control:checked~label.sk-toggleable__label {background-color: #d4ebff;}#sk-container-id-1 input.sk-hidden--visually {border: 0;clip: rect(1px 1px 1px 1px);clip: rect(1px, 1px, 1px, 1px);height: 1px;margin: -1px;overflow: hidden;padding: 0;position: absolute;width: 1px;}#sk-container-id-1 div.sk-estimator {font-family: monospace;background-color: #f0f8ff;border: 1px dotted black;border-radius: 0.25em;box-sizing: border-box;margin-bottom: 0.5em;}#sk-container-id-1 div.sk-estimator:hover {background-color: #d4ebff;}#sk-container-id-1 div.sk-parallel-item::after {content: \"\";width: 100%;border-bottom: 1px solid gray;flex-grow: 1;}#sk-container-id-1 div.sk-label:hover label.sk-toggleable__label {background-color: #d4ebff;}#sk-container-id-1 div.sk-serial::before {content: \"\";position: absolute;border-left: 1px solid gray;box-sizing: border-box;top: 0;bottom: 0;left: 50%;z-index: 0;}#sk-container-id-1 div.sk-serial {display: flex;flex-direction: column;align-items: center;background-color: white;padding-right: 0.2em;padding-left: 0.2em;position: relative;}#sk-container-id-1 div.sk-item {position: relative;z-index: 1;}#sk-container-id-1 div.sk-parallel {display: flex;align-items: stretch;justify-content: center;background-color: white;position: relative;}#sk-container-id-1 div.sk-item::before, #sk-container-id-1 div.sk-parallel-item::before {content: \"\";position: absolute;border-left: 1px solid gray;box-sizing: border-box;top: 0;bottom: 0;left: 50%;z-index: -1;}#sk-container-id-1 div.sk-parallel-item {display: flex;flex-direction: column;z-index: 1;position: relative;background-color: white;}#sk-container-id-1 div.sk-parallel-item:first-child::after {align-self: flex-end;width: 50%;}#sk-container-id-1 div.sk-parallel-item:last-child::after {align-self: flex-start;width: 50%;}#sk-container-id-1 div.sk-parallel-item:only-child::after {width: 0;}#sk-container-id-1 div.sk-dashed-wrapped {border: 1px dashed gray;margin: 0 0.4em 0.5em 0.4em;box-sizing: border-box;padding-bottom: 0.4em;background-color: white;}#sk-container-id-1 div.sk-label label {font-family: monospace;font-weight: bold;display: inline-block;line-height: 1.2em;}#sk-container-id-1 div.sk-label-container {text-align: center;}#sk-container-id-1 div.sk-container {/* jupyter's `normalize.less` sets `[hidden] { display: none; }` but bootstrap.min.css set `[hidden] { display: none !important; }` so we also need the `!important` here to be able to override the default hidden behavior on the sphinx rendered scikit-learn.org. See: https://github.com/scikit-learn/scikit-learn/issues/21755 */display: inline-block !important;position: relative;}#sk-container-id-1 div.sk-text-repr-fallback {display: none;}</style><div id=\"sk-container-id-1\" class=\"sk-top-container\"><div class=\"sk-text-repr-fallback\"><pre>RandomForestClassifier(random_state=42)</pre><b>In a Jupyter environment, please rerun this cell to show the HTML representation or trust the notebook. <br />On GitHub, the HTML representation is unable to render, please try loading this page with nbviewer.org.</b></div><div class=\"sk-container\" hidden><div class=\"sk-item\"><div class=\"sk-estimator sk-toggleable\"><input class=\"sk-toggleable__control sk-hidden--visually\" id=\"sk-estimator-id-1\" type=\"checkbox\" checked><label for=\"sk-estimator-id-1\" class=\"sk-toggleable__label sk-toggleable__label-arrow\">RandomForestClassifier</label><div class=\"sk-toggleable__content\"><pre>RandomForestClassifier(random_state=42)</pre></div></div></div></div></div>"
            ]
          },
          "metadata": {},
          "execution_count": 27
        }
      ]
    },
    {
      "cell_type": "code",
      "source": [
        "# Predicting on the test data\n",
        "y_pred_aff = affiliation_model.predict(X_test_aff)\n",
        "\n",
        "# Evaluating the model\n",
        "affiliation_accuracy = accuracy_score(y_test_aff, y_pred_aff)\n",
        "affiliation_report = classification_report(y_test_aff, y_pred_aff)\n",
        "\n",
        "# Displaying the results\n",
        "print(\"Affiliation Impact Prediction Accuracy:\", affiliation_accuracy)\n",
        "print(\"Classification Report:\\n\", affiliation_report)\n"
      ],
      "metadata": {
        "colab": {
          "base_uri": "https://localhost:8080/"
        },
        "id": "o_Klkw1DFRFB",
        "outputId": "f90f7306-eddd-40c9-cbf4-252a2252b4c4"
      },
      "id": "o_Klkw1DFRFB",
      "execution_count": 28,
      "outputs": [
        {
          "output_type": "stream",
          "name": "stdout",
          "text": [
            "Affiliation Impact Prediction Accuracy: 0.9268077601410935\n",
            "Classification Report:\n",
            "               precision    recall  f1-score   support\n",
            "\n",
            "           0       0.66      0.60      0.63       352\n",
            "           1       0.95      0.96      0.96      3050\n",
            "\n",
            "    accuracy                           0.93      3402\n",
            "   macro avg       0.81      0.78      0.79      3402\n",
            "weighted avg       0.92      0.93      0.93      3402\n",
            "\n"
          ]
        }
      ]
    },
    {
      "cell_type": "markdown",
      "source": [
        "# 2. Student Retention Prediction\n",
        "Predicting student retention involves identifying whether a student will enroll in another course or stay within the institution for the long term.\n",
        "\n",
        " - Steps:\n",
        "    - Data Preparation: Identify students who have enrolled in multiple courses (Student Name, Course Title, Student State can be used here).\n",
        "    - Labeling: Define retention as students who have enrolled in more than one course or made multiple payments.\n",
        "    - Retained students: Students who have registered for another course after completing one.\n",
        "    - Non-retained students: Students who only registered once.\n",
        "\n",
        " - Feature Engineering: Create features like:\n",
        "     - Number of Enrollments per Student.\n",
        "     - Average Course Fee per Student.\n",
        "     - Payment Type Preference (e.g., UPI, Net Banking).\n",
        "     - Division or Course Type that the student is enrolled in.\n",
        "     - Course Duration.\n",
        " - Modeling: Use a classification model to predict whether a student will be retained based on their previous behaviors, such as payment type, course fees, and state of residence.\n",
        " - Model Evaluation: Similar to the affiliation prediction, you can use accuracy, precision, recall, or AUC-ROC as evaluation metrics."
      ],
      "metadata": {
        "id": "PIQkq5IEGbYX"
      },
      "id": "PIQkq5IEGbYX"
    },
    {
      "cell_type": "code",
      "source": [
        "# Create a column to track the count of enrollments for each student\n",
        "retention_df = df[['Student Name', 'Course Title', 'With GST', 'Payment Type', 'Student State']].copy()\n",
        "\n",
        "# Group by Student Name to count the number of enrollments\n",
        "retention_df['Enrollment Count'] = retention_df.groupby('Student Name')['Student Name'].transform('count')\n",
        "\n",
        "# Define the target variable: Retention (1 if enrollment count > 1, else 0)\n",
        "retention_df['Retention'] = retention_df['Enrollment Count'].apply(lambda x: 1 if x > 1 else 0)\n",
        "\n",
        "# Drop unnecessary columns\n",
        "retention_df = retention_df.drop(columns=['Student Name', 'Enrollment Count'])\n",
        "\n",
        "# Convert categorical columns into numeric (One-Hot Encoding)\n",
        "retention_df = pd.get_dummies(retention_df, columns=['Course Title', 'Payment Type', 'Student State'])\n"
      ],
      "metadata": {
        "id": "he9DpUqvFg8j"
      },
      "id": "he9DpUqvFg8j",
      "execution_count": 29,
      "outputs": []
    },
    {
      "cell_type": "code",
      "source": [
        "# Splitting the data into training and testing sets\n",
        "X_retention = retention_df.drop(columns=['Retention'])\n",
        "y_retention = retention_df['Retention']\n",
        "\n",
        "X_train_ret, X_test_ret, y_train_ret, y_test_ret = train_test_split(X_retention, y_retention, test_size=0.3, random_state=42)\n"
      ],
      "metadata": {
        "id": "AH-1loOaG96S"
      },
      "id": "AH-1loOaG96S",
      "execution_count": 30,
      "outputs": []
    },
    {
      "cell_type": "code",
      "source": [
        "# Import necessary libraries\n",
        "from sklearn.model_selection import train_test_split\n",
        "from sklearn.ensemble import RandomForestClassifier\n",
        "from sklearn.metrics import classification_report, accuracy_score\n",
        "\n",
        "\n",
        "# Building the RandomForest model for Student Retention Prediction\n",
        "retention_model = RandomForestClassifier(random_state=42)\n",
        "retention_model.fit(X_train_ret, y_train_ret)\n"
      ],
      "metadata": {
        "colab": {
          "base_uri": "https://localhost:8080/",
          "height": 75
        },
        "id": "QE_DpaOBHACH",
        "outputId": "c23f9dea-60ce-406d-9506-028765b2c472"
      },
      "id": "QE_DpaOBHACH",
      "execution_count": 31,
      "outputs": [
        {
          "output_type": "execute_result",
          "data": {
            "text/plain": [
              "RandomForestClassifier(random_state=42)"
            ],
            "text/html": [
              "<style>#sk-container-id-2 {color: black;}#sk-container-id-2 pre{padding: 0;}#sk-container-id-2 div.sk-toggleable {background-color: white;}#sk-container-id-2 label.sk-toggleable__label {cursor: pointer;display: block;width: 100%;margin-bottom: 0;padding: 0.3em;box-sizing: border-box;text-align: center;}#sk-container-id-2 label.sk-toggleable__label-arrow:before {content: \"▸\";float: left;margin-right: 0.25em;color: #696969;}#sk-container-id-2 label.sk-toggleable__label-arrow:hover:before {color: black;}#sk-container-id-2 div.sk-estimator:hover label.sk-toggleable__label-arrow:before {color: black;}#sk-container-id-2 div.sk-toggleable__content {max-height: 0;max-width: 0;overflow: hidden;text-align: left;background-color: #f0f8ff;}#sk-container-id-2 div.sk-toggleable__content pre {margin: 0.2em;color: black;border-radius: 0.25em;background-color: #f0f8ff;}#sk-container-id-2 input.sk-toggleable__control:checked~div.sk-toggleable__content {max-height: 200px;max-width: 100%;overflow: auto;}#sk-container-id-2 input.sk-toggleable__control:checked~label.sk-toggleable__label-arrow:before {content: \"▾\";}#sk-container-id-2 div.sk-estimator input.sk-toggleable__control:checked~label.sk-toggleable__label {background-color: #d4ebff;}#sk-container-id-2 div.sk-label input.sk-toggleable__control:checked~label.sk-toggleable__label {background-color: #d4ebff;}#sk-container-id-2 input.sk-hidden--visually {border: 0;clip: rect(1px 1px 1px 1px);clip: rect(1px, 1px, 1px, 1px);height: 1px;margin: -1px;overflow: hidden;padding: 0;position: absolute;width: 1px;}#sk-container-id-2 div.sk-estimator {font-family: monospace;background-color: #f0f8ff;border: 1px dotted black;border-radius: 0.25em;box-sizing: border-box;margin-bottom: 0.5em;}#sk-container-id-2 div.sk-estimator:hover {background-color: #d4ebff;}#sk-container-id-2 div.sk-parallel-item::after {content: \"\";width: 100%;border-bottom: 1px solid gray;flex-grow: 1;}#sk-container-id-2 div.sk-label:hover label.sk-toggleable__label {background-color: #d4ebff;}#sk-container-id-2 div.sk-serial::before {content: \"\";position: absolute;border-left: 1px solid gray;box-sizing: border-box;top: 0;bottom: 0;left: 50%;z-index: 0;}#sk-container-id-2 div.sk-serial {display: flex;flex-direction: column;align-items: center;background-color: white;padding-right: 0.2em;padding-left: 0.2em;position: relative;}#sk-container-id-2 div.sk-item {position: relative;z-index: 1;}#sk-container-id-2 div.sk-parallel {display: flex;align-items: stretch;justify-content: center;background-color: white;position: relative;}#sk-container-id-2 div.sk-item::before, #sk-container-id-2 div.sk-parallel-item::before {content: \"\";position: absolute;border-left: 1px solid gray;box-sizing: border-box;top: 0;bottom: 0;left: 50%;z-index: -1;}#sk-container-id-2 div.sk-parallel-item {display: flex;flex-direction: column;z-index: 1;position: relative;background-color: white;}#sk-container-id-2 div.sk-parallel-item:first-child::after {align-self: flex-end;width: 50%;}#sk-container-id-2 div.sk-parallel-item:last-child::after {align-self: flex-start;width: 50%;}#sk-container-id-2 div.sk-parallel-item:only-child::after {width: 0;}#sk-container-id-2 div.sk-dashed-wrapped {border: 1px dashed gray;margin: 0 0.4em 0.5em 0.4em;box-sizing: border-box;padding-bottom: 0.4em;background-color: white;}#sk-container-id-2 div.sk-label label {font-family: monospace;font-weight: bold;display: inline-block;line-height: 1.2em;}#sk-container-id-2 div.sk-label-container {text-align: center;}#sk-container-id-2 div.sk-container {/* jupyter's `normalize.less` sets `[hidden] { display: none; }` but bootstrap.min.css set `[hidden] { display: none !important; }` so we also need the `!important` here to be able to override the default hidden behavior on the sphinx rendered scikit-learn.org. See: https://github.com/scikit-learn/scikit-learn/issues/21755 */display: inline-block !important;position: relative;}#sk-container-id-2 div.sk-text-repr-fallback {display: none;}</style><div id=\"sk-container-id-2\" class=\"sk-top-container\"><div class=\"sk-text-repr-fallback\"><pre>RandomForestClassifier(random_state=42)</pre><b>In a Jupyter environment, please rerun this cell to show the HTML representation or trust the notebook. <br />On GitHub, the HTML representation is unable to render, please try loading this page with nbviewer.org.</b></div><div class=\"sk-container\" hidden><div class=\"sk-item\"><div class=\"sk-estimator sk-toggleable\"><input class=\"sk-toggleable__control sk-hidden--visually\" id=\"sk-estimator-id-2\" type=\"checkbox\" checked><label for=\"sk-estimator-id-2\" class=\"sk-toggleable__label sk-toggleable__label-arrow\">RandomForestClassifier</label><div class=\"sk-toggleable__content\"><pre>RandomForestClassifier(random_state=42)</pre></div></div></div></div></div>"
            ]
          },
          "metadata": {},
          "execution_count": 31
        }
      ]
    },
    {
      "cell_type": "code",
      "source": [
        "# Predicting on the test data\n",
        "y_pred_ret = retention_model.predict(X_test_ret)\n",
        "\n",
        "# Evaluating the model\n",
        "retention_accuracy = accuracy_score(y_test_ret, y_pred_ret)\n",
        "retention_report = classification_report(y_test_ret, y_pred_ret)\n",
        "\n",
        "# Displaying the results\n",
        "print(\"Student Retention Prediction Accuracy:\", retention_accuracy)\n",
        "print(\"Classification Report:\\n\", retention_report)\n"
      ],
      "metadata": {
        "colab": {
          "base_uri": "https://localhost:8080/"
        },
        "id": "og9q8BAiHD0q",
        "outputId": "4c6f7f0e-2d28-45e3-dde9-945b0c9240bc"
      },
      "id": "og9q8BAiHD0q",
      "execution_count": 32,
      "outputs": [
        {
          "output_type": "stream",
          "name": "stdout",
          "text": [
            "Student Retention Prediction Accuracy: 0.8974132863021752\n",
            "Classification Report:\n",
            "               precision    recall  f1-score   support\n",
            "\n",
            "           0       0.47      0.28      0.35       339\n",
            "           1       0.92      0.97      0.94      3063\n",
            "\n",
            "    accuracy                           0.90      3402\n",
            "   macro avg       0.70      0.62      0.65      3402\n",
            "weighted avg       0.88      0.90      0.89      3402\n",
            "\n"
          ]
        }
      ]
    },
    {
      "cell_type": "markdown",
      "source": [
        "# Summary\n",
        " - **Affiliation Impact: Predicts whether the course is NSDC-affiliated or Self-affiliated based on the student's details and payment information.**\n",
        "\n",
        " - **Student Retention: Predicts whether a student is likely to enroll in another course based on the number of courses they have already taken and other features.**"
      ],
      "metadata": {
        "id": "BGSIL0--HL57"
      },
      "id": "BGSIL0--HL57"
    },
    {
      "cell_type": "code",
      "source": [],
      "metadata": {
        "id": "AbNJO2h6HF5x"
      },
      "id": "AbNJO2h6HF5x",
      "execution_count": null,
      "outputs": []
    }
  ],
  "metadata": {
    "kernelspec": {
      "display_name": "Python 3",
      "language": "python",
      "name": "python3"
    },
    "language_info": {
      "codemirror_mode": {
        "name": "ipython",
        "version": 3
      },
      "file_extension": ".py",
      "mimetype": "text/x-python",
      "name": "python",
      "nbconvert_exporter": "python",
      "pygments_lexer": "ipython3",
      "version": "3.8.8"
    },
    "colab": {
      "provenance": [],
      "include_colab_link": true
    }
  },
  "nbformat": 4,
  "nbformat_minor": 5
}